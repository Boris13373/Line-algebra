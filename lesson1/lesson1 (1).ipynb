{
 "cells": [
  {
   "cell_type": "code",
   "execution_count": 1,
   "metadata": {},
   "outputs": [],
   "source": [
    "import numpy as np"
   ]
  },
  {
   "cell_type": "markdown",
   "metadata": {},
   "source": [
    "# Задание 1"
   ]
  },
  {
   "cell_type": "markdown",
   "metadata": {},
   "source": [
    "Найти скалярное произведение векторов\n",
    "а)  x=(0,−3,6), y=(−4,7,9); \n",
    "б)  x=(7,−4,0,1), y=(−3,1,11,2)."
   ]
  },
  {
   "cell_type": "code",
   "execution_count": 4,
   "metadata": {},
   "outputs": [
    {
     "data": {
      "text/plain": [
       "33"
      ]
     },
     "execution_count": 4,
     "metadata": {},
     "output_type": "execute_result"
    }
   ],
   "source": [
    "a = np.array([0, -3, 6])\n",
    "b = np.array([-4,7,9])\n",
    "a @ b"
   ]
  },
  {
   "cell_type": "code",
   "execution_count": 13,
   "metadata": {},
   "outputs": [
    {
     "data": {
      "text/plain": [
       "-23"
      ]
     },
     "execution_count": 13,
     "metadata": {},
     "output_type": "execute_result"
    }
   ],
   "source": [
    "a=np.array([7,-4,0,1]) \n",
    "b=np.array([-3,1,11,2])\n",
    "a @ b"
   ]
  },
  {
   "cell_type": "markdown",
   "metadata": {},
   "source": [
    "# Задание 2"
   ]
  },
  {
   "cell_type": "markdown",
   "metadata": {},
   "source": [
    "Найти нормы векторов  (4,2,4)  и  (12,3,4)  и угол между ними."
   ]
  },
  {
   "cell_type": "code",
   "execution_count": 6,
   "metadata": {},
   "outputs": [],
   "source": [
    "from numpy.linalg import norm"
   ]
  },
  {
   "cell_type": "code",
   "execution_count": 9,
   "metadata": {},
   "outputs": [
    {
     "data": {
      "text/plain": [
       "13.0"
      ]
     },
     "execution_count": 9,
     "metadata": {},
     "output_type": "execute_result"
    }
   ],
   "source": [
    "a=np.array([12,3,4])\n",
    "b=np.array([4,2,4])\n",
    "norm(a)  "
   ]
  },
  {
   "cell_type": "code",
   "execution_count": 10,
   "metadata": {},
   "outputs": [
    {
     "data": {
      "text/plain": [
       "6.0"
      ]
     },
     "execution_count": 10,
     "metadata": {},
     "output_type": "execute_result"
    }
   ],
   "source": [
    "norm(b)"
   ]
  },
  {
   "cell_type": "code",
   "execution_count": 11,
   "metadata": {},
   "outputs": [
    {
     "data": {
      "text/plain": [
       "0.8974358974358975"
      ]
     },
     "execution_count": 11,
     "metadata": {},
     "output_type": "execute_result"
    }
   ],
   "source": [
    "(a @ b)/(norm(a)*norm(b))"
   ]
  },
  {
   "cell_type": "markdown",
   "metadata": {},
   "source": [
    "# Задание 3"
   ]
  },
  {
   "cell_type": "markdown",
   "metadata": {},
   "source": [
    "Будет ли линейное пространство евклидовым, если за скалярное произведение принять:\n",
    "а) произведение длин векторов;\n",
    "б) утроенное обычное скалярное произведение векторов?"
   ]
  },
  {
   "cell_type": "markdown",
   "metadata": {},
   "source": [
    "1)  (x,y)=(y,x); \n",
    "2)  (λx,y)=λ(x,y); \n",
    "3)  (x1+x2,y)=(x1,y)+(x2,y); \n",
    "4)  (x,x)≥0 , причем  (x,x)=0⇔x=0."
   ]
  },
  {
   "cell_type": "markdown",
   "metadata": {},
   "source": [
    "\n",
    "Проверим выполнение аксиом\n",
    "\n",
    "а) $(x, y)_{'} = \\|x\\| \\|y\\|$ — скалярное произведение как произведение длин векторов.\n",
    "\n",
    "Аксиома 2: $\\forall x, y \\in L, \\lambda \\in \\mathbb{R}: (\\lambda x, y)_{'} = \\lambda(x, y)_{'}$\n",
    "\n",
    "Возьмем $\\lambda, x$ и $y$ такие, что $\\lambda &lt; 0, ~\\|x\\| &gt; 0, ~\\|y\\| &gt; 0$, тогда $(\\lambda x, y)_{'} = \\|\\lambda x\\| \\|y\\| = |\\lambda| \\|x\\| \\|y\\| = |\\lambda| (x, y)_{'}$, но\n",
    "\n",
    "$\\lambda(x, y)_{'} \\neq |\\lambda| (x, y)_{'}$, при $\\lambda &lt; 0, ~\\|x\\| &gt; 0, ~\\|y\\| &gt; 0$,\n",
    "\n",
    "значит, линейное пространство не будет евклидовым, если за скалярное произведение принять произведение длин векторов.\n",
    "\n",
    "б) $(x, y)_{''} = 3(x, y)$ — скалярное утроенное обычное скалярное произведение векторов.\n",
    "\n",
    "Аксиома 1: $\\forall x, y \\in L: (x,y)_{''}= 3(x, y) =  3(y, x) =(y,x)_{''}$\n",
    "\n",
    "Аксиома 2: $\\forall x, y \\in L, \\lambda \\in \\mathbb{R}: (\\lambda x, y)_{''} = 3(\\lambda x, y) = \\lambda \\cdot 3(x, y) = \\lambda(x, y)_{''}$\n",
    "\n",
    "Аксиома 3: $\\forall x_1, x_2, y \\in L: (x_{1}+x_{2},y)_{''}=3 (x_{1}+x_{2},y) = 3 ((x_{1},y)+(x_{2},y)) = 3 (x_{1},y)+3 (x_{2},y) =(x_{1},y)_{''}+(x_{2},y)_{''}$\n",
    "\n",
    "Аксиома 4: $\\forall x \\in L, x &gt; 0: (x, x)_{''} = 3 (x, x) &gt; 0$\n",
    "\n",
    "Если $x = 0$, то $(x, x)_{''} = 3 \\cdot (x, x) = 3 \\cdot 0 = 0$\n",
    "\n",
    "Так как все аксиомы выполняются, значит, линейное пространство будет евклидовым, если за скалярное произведение принять утроенное обычное скалярное произведение векторов."
   ]
  },
  {
   "cell_type": "markdown",
   "metadata": {},
   "source": [
    "# Заадние 4"
   ]
  },
  {
   "cell_type": "markdown",
   "metadata": {},
   "source": [
    "4. Какие из нижеперечисленных векторов образуют ортонормированный базис в линейном пространстве  R3 :\n",
    "а)  (1,0,0),(0,0,1); \n",
    "б)  (1/2–√,−1/2–√,0),(1/2–√,1/2–√,0),(0,0,1); \n",
    "в)  (1/2,−1/2,0),(0,1/2,1/2),(0,0,1); \n",
    "г)  (1,0,0),(0,1,0),(0,0,1)?"
   ]
  },
  {
   "cell_type": "markdown",
   "metadata": {},
   "source": [
    "а) Два вектора не образуют базис в $\\mathbb{R}^{3}$, так как, например, $(0, 1, 0)$ невозможно выразить через эти два вектора.\n",
    "\n",
    "б) $e'_1 = \\left(\\dfrac{\\sqrt{2}}{2}, -\\dfrac{\\sqrt{2}}{2} ,0\\right), ~e'_2 = \\left(\\dfrac{\\sqrt{2}}{2},\\dfrac{\\sqrt{2}}{2},0\\right), ~e'_3 = (0,0,1)$\n",
    "\n",
    "$(e'_1, e'_2) = \\dfrac{\\sqrt{2}}{2} \\cdot \\dfrac{\\sqrt{2}}{2} + \\left(- \\dfrac{\\sqrt{2}}{2} \\right) \\cdot \\dfrac{\\sqrt{2}}{2} + 0 \\cdot 0 = 0$\n",
    "\n",
    "$(e'_1, e'_3) = \\dfrac{\\sqrt{2}}{2} \\cdot 0 + \\left(- \\dfrac{\\sqrt{2}}{2} \\right) \\cdot 0 + 0 \\cdot 1 = 0$\n",
    "\n",
    "$(e'_2, e'_3) = \\dfrac{\\sqrt{2}}{2} \\cdot 0 +  \\dfrac{\\sqrt{2}}{2} \\cdot 0 + 0 \\cdot 1 = 0$\n",
    "\n",
    "в) Скалярное произведение двух первых базисных векторов не равно 0, значит три вектора не могут составлять ортонормированный базис.\n",
    "\n",
    "г) $(1,0,0),~(0,1,0),~(0,0,1)$ — декартов прямоугольный базис евклидова пространства $E^{3}$. Он оотонормирован."
   ]
  },
  {
   "cell_type": "markdown",
   "metadata": {},
   "source": [
    "# 1 ая методичка"
   ]
  },
  {
   "cell_type": "markdown",
   "metadata": {},
   "source": [
    "# Задание 1"
   ]
  },
  {
   "cell_type": "markdown",
   "metadata": {},
   "source": [
    "1. Исследовать на линейную зависимость"
   ]
  },
  {
   "cell_type": "markdown",
   "metadata": {},
   "source": [
    "f1(x)=ex,f2(x)=1,f3(x)=x+1,f4(x)=x−ex"
   ]
  },
  {
   "cell_type": "markdown",
   "metadata": {},
   "source": [
    "\n",
    "Заметим, что $f_4(x) = f_3(x) - f_2(x) - f_1(x)$, то есть одна из функций является нетривиальной линейной комбинацией трех остальных. Из этого следует, что функции линейно зависимы."
   ]
  },
  {
   "cell_type": "markdown",
   "metadata": {},
   "source": [
    "2.Исследовать на линейную зависимость:\n",
    "f1(x)=2,f2(x)=x,f3(x)=x2,f4(x)=(x+1)2"
   ]
  },
  {
   "cell_type": "markdown",
   "metadata": {},
   "source": [
    "Заметим, что $f_4(x) = f_3(x) + 2 f_2(x) + \\dfrac{1}{2} f_1(x)$, то есть одна из функций является нетривиальной линейной комбинацией трех остальных. Из этого следует, что функции линейно зависимы."
   ]
  },
  {
   "cell_type": "markdown",
   "metadata": {},
   "source": [
    "3. Найти координаты вектора  x=(2,3,5)∈R3  в базисе  b1=(0,0,10) ,  b2=(2,0,0) ,  b3=(0,1,0) ."
   ]
  },
  {
   "cell_type": "markdown",
   "metadata": {},
   "source": [
    "\n",
    "Стандартный базис линейного пространства $\\mathbb{R}^{3}$ образуют векторы $e_{1}=(1, 0, 0),  \\:\\: e_{2}=(0, 1, 0),  \\:\\: e_{3}=(0, 0, 1)$.\n",
    "\n",
    "$e_1 = \\dfrac{1}{2}b_2,  \\:\\: e_2 = b_3,  \\:\\: e_3 = \\dfrac{1}{10}b_1$\n",
    "\n",
    "$x = 2 e_1 + 3 e_2 + 5 e_3 = b_2 + 3 b_3 + \\dfrac{1}{2}b_1$\n",
    "\n",
    "$x = (\\dfrac{1}{2}, 1, 3)$"
   ]
  },
  {
   "cell_type": "markdown",
   "metadata": {},
   "source": [
    "4. Найти координаты вектора  3x2−2x+2∈R3[x] :\n",
    "а) в базисе  1 ,  x ,  x2 ;\n",
    "\n",
    "б) в базисе  x2 ,  x−1 ,  1 ."
   ]
  },
  {
   "cell_type": "markdown",
   "metadata": {},
   "source": [
    "$f(x) = 3x^{2}-2x+2$.\n",
    "\n",
    "а) $f(x) = 2 \\cdot 1 - 2 \\cdot x + 3 \\cdot x^2$\n",
    "\n",
    "$f(x) = (2, -2, 3)$\n",
    "\n",
    "б) $f(x) = 3 \\cdot x^2 - 2 \\cdot (x - 1) + 0 \\cdot 1$\n",
    "\n",
    "$f(x) = (3, -2, 0)$"
   ]
  },
  {
   "cell_type": "markdown",
   "metadata": {},
   "source": [
    "Установить, является ли линейным подпространством:\n",
    "а) совокупность всех векторов трехмерного пространства, у которых по крайней мере одна из первых двух координат равна нулю;\n",
    "\n",
    "б) все векторы, являющиеся линейными комбинациями данных векторов  {u1,u2,…,un} ."
   ]
  },
  {
   "cell_type": "markdown",
   "metadata": {},
   "source": [
    "\n",
    "а) Рассматриваем множество $L$ всех векторов вида $(0, 0, a_1)$, $(0, a_2, a_3)$, $(a_4, 0, a_5)$, где $\\forall i: a_i \\in V$.\n",
    "\n",
    "Возьмем два вектора $u = (0, 1, 0)$ и $v = (1, 0, 0)$ и сложим.\n",
    "\n",
    "$u + v = (1, 1, 0)$ не входит в $L$.\n",
    "\n",
    "Значит $L$ не является линейным подпространством $V$.\n",
    "\n",
    "б) Рассматриваем линейную оболочку $L\\{u_{1}, u_{2}, ..., u_{n}\\}$, $\\forall i: u_i \\in V$\n",
    "\n",
    "Возьмем два произвольных вектора линейной оболочки:\n",
    "\n",
    "$x_1 = \\alpha_1 u_1 + \\alpha_2 u_2 + \\cdots + \\alpha_n u_n$\n",
    "\n",
    "$x_2 = \\beta_1 u_1 + \\beta_2 u_2 + \\cdots + \\beta_n u_n$\n",
    "\n",
    "Очевидно, что $x_1 + x_2 = (\\alpha_1 + \\beta_1) u_1 + (\\alpha_2 + \\beta_2) u_2 + \\cdots + (\\alpha_n + \\beta_n) u_n \\in  L\\{u_{1}, u_{2}, ..., u_{n}\\}$\n",
    "\n",
    "Также, $\\forall \\gamma \\in \\mathbb{R}: \\gamma  x_1 = (\\gamma \\cdot \\alpha_1) u_1 + (\\gamma \\cdot \\alpha_2) u_2 + \\cdots + (\\gamma \\cdot \\alpha_n) u_n \\in  L\\{u_{1}, u_{2}, ..., u_{n}\\}$\n",
    "\n",
    "Так как $\\forall \\gamma \\in \\mathbb{R}, \\:\\:  x_1,x_2 \\in L\\{u_{1}, u_{2}, ..., u_{n}\\}: x_1 + x_2, \\gamma x_1 \\in L\\{u_{1}, u_{2}, ..., u_{n}\\}$,\n",
    "\n",
    "то $L\\{u_{1}, u_{2}, ..., u_{n}\\}$ — линейной подпространство $V$ по доказанному ранее утверждению."
   ]
  },
  {
   "cell_type": "code",
   "execution_count": null,
   "metadata": {},
   "outputs": [],
   "source": []
  }
 ],
 "metadata": {
  "kernelspec": {
   "display_name": "Python 3",
   "language": "python",
   "name": "python3"
  },
  "language_info": {
   "codemirror_mode": {
    "name": "ipython",
    "version": 3
   },
   "file_extension": ".py",
   "mimetype": "text/x-python",
   "name": "python",
   "nbconvert_exporter": "python",
   "pygments_lexer": "ipython3",
   "version": "3.7.6"
  }
 },
 "nbformat": 4,
 "nbformat_minor": 4
}
